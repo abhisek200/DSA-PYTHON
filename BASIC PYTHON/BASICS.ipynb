{
 "cells": [
  {
   "cell_type": "code",
   "execution_count": 39,
   "metadata": {},
   "outputs": [
    {
     "name": "stdout",
     "output_type": "stream",
     "text": [
      "i\n",
      "fru\n",
      "it\n",
      "fru\n",
      "fru\n",
      "fruit\n",
      "fru\n",
      "/--------type2---------/\n",
      "applemango\n",
      "appleappleapple\n",
      "APPLE\n",
      "Apple\n",
      "3\n",
      "2\n",
      "apple\n",
      "app\n",
      "/----------print statements----------/\n",
      "I speak English and Lmao\n",
      "Log a: 4.2 and 2\n",
      "Life is {one} and you better {two}\n",
      "Life is short and you better get you shit right!\n"
     ]
    }
   ],
   "source": [
    "# STRINGS\n",
    "f=\"fruit\"\n",
    "print(f[-2]) #removes last two\n",
    "print(f[:-2])  #extracts last two\n",
    "print(\"fruit\"[3:])\n",
    "print(\"fruit\"[0:3])\n",
    "print(\"fruit\"[:3])\n",
    "print(f[:])\n",
    "print(f[:-2])\n",
    "print(\"/--------type2---------/\")\n",
    "print('apple'+'mango')\n",
    "print(\"apple\"*3) # \"  \" = '  '\n",
    "a=\"apple\"\n",
    "print(a.upper())\n",
    "print(a.capitalize())\n",
    "print(a.find('l')) \n",
    "print(a.count('p')) #counts the number of p's in the string\n",
    "print(a.strip())  #removes whites spaces if any\n",
    "print(a.strip('le'))#trims the character/string either from first or last\n",
    "print(\"/----------print statements----------/\")\n",
    "z=\"I speak {} and {}\"\n",
    "print(z.format(\"English\",\"Lmao\"))\n",
    "print(\"Log a: {} and {}\".format(4.2,2))\n",
    "# also can be assigned\n",
    "y=\"Life is {one} and you better {two}\"\n",
    "print(y)\n",
    "print(y.format(one=\"short\",two=\"get you shit right!\"))"
   ]
  },
  {
   "cell_type": "code",
   "execution_count": 53,
   "metadata": {},
   "outputs": [
    {
     "name": "stdout",
     "output_type": "stream",
     "text": [
      "[1, 2, 3, 4.5, 5]\n",
      "['idc', 3, 4, 7]\n",
      "4\n",
      "['idc', 3, 4]\n",
      "['idc', 3]\n",
      "[4, 7]\n",
      "[0, 3, 4, 7]\n",
      "/-------tuple--------/\n",
      "(1, 2, 3, 4, 5)\n",
      "(1, 2, 3)\n",
      "(1, 2)\n",
      "()\n"
     ]
    }
   ],
   "source": [
    "# LIST AND TUPLE\n",
    "print([1,2,3,4.5,5])\n",
    "squares=['idc',3,4,7]\n",
    "print(squares)\n",
    "print(squares[-2])\n",
    "print(squares[:3]) # prints 0 to <3 not <=3\n",
    "print(squares[:-2]) #prints 0 to -2\n",
    "print(squares[-2:]) #starts from -2\n",
    "squares[0]=0\n",
    "print(squares)\n",
    "print(\"/-------tuple--------/\")\n",
    "# tuple are similar to lists except the elements of a tuple cannot be changed\n",
    "print((1,2,3,4,5))\n",
    "t=(1,2,3,4,5)\n",
    "print(t[:-2])\n",
    "print(t[:2])\n",
    "print(t[:0])\n",
    "# t[0]=0 not possible in case of tuple, cannot be chanegd after initialisation"
   ]
  },
  {
   "cell_type": "code",
   "execution_count": 64,
   "metadata": {},
   "outputs": [
    {
     "name": "stdout",
     "output_type": "stream",
     "text": [
      "value2\n",
      "no value\n",
      "dict_keys([1, 2, 3, 4])\n",
      "dict_values(['value', 'no value', 'suckatit', 'nothing'])\n",
      "{1: 'lmao nothing', 2: 'no value', 3: 'suckatit', 4: 'nothing'}\n",
      "{1: 'lmao nothing', 2: 'no value', 3: 'suckatit', 4: 'nothing', 5: 'this is how you add'}\n",
      "{2: 'no value', 3: 'suckatit', 4: 'nothing', 5: 'this is how you add'}\n"
     ]
    }
   ],
   "source": [
    "# DICTIONARY , similar to hashmap. it is a set of key-value pairs.\n",
    "dict1={'key1':'value1',\"key2\":\"value2\"} \n",
    "print(dict1['key2'])\n",
    "costs1={1:'value',2:'no value',3:'suckatit',4:'nothing'}\n",
    "print(costs1[2])\n",
    "print(costs1.keys())\n",
    "print(costs1.values())\n",
    "costs1[1]=\"lmao nothing\"\n",
    "print(costs1)\n",
    "costs1[5]=\"this is how you add\"\n",
    "print(costs1)\n",
    "del costs1[1]\n",
    "print(costs1)\n"
   ]
  },
  {
   "cell_type": "code",
   "execution_count": 83,
   "metadata": {},
   "outputs": [
    {
     "name": "stdout",
     "output_type": "stream",
     "text": [
      "{1, 2, 3, 4, 5, 11}\n",
      "or:  {'c', 'h', 'd', 'g', 'a', 'e', 'j', 'b', 'f', 'i'}\n",
      "and:  {'b', 'c', 'h', 'a'}\n",
      "{'e', 'd', 'g', 'f'}\n",
      "{'j', 'i'}\n",
      "/-------------extras--------------/\n",
      "True\n",
      "<class 'float'>\n",
      "<class 'str'>\n",
      "<class 'tuple'>\n",
      "<class 'list'>\n",
      "<class 'set'>\n"
     ]
    }
   ],
   "source": [
    "# Python set and boolean\n",
    "# SET- unordered collection of non duplicated elements.\n",
    "set1={1,2,3,4,5,5,11,1,2,3} \n",
    "print(set1) #removes duplicates\n",
    "# print(set1[0]) not possible. It cannot be next\n",
    "x={'a','b','c','d','e','f','g','h'}\n",
    "y={'a','b','c','h','i','j'}\n",
    "print(\"or: \",x|y)\n",
    "print(\"and: \",x&y)\n",
    "print(x-y)\n",
    "print(y-x)\n",
    "print(\"/-------------extras--------------/\")\n",
    "print(4>3)\n",
    "print(type(5.2))\n",
    "print(type('a'))\n",
    "print(type((3,3)))\n",
    "print(type([2,1]))\n",
    "print(type({2,1}))"
   ]
  },
  {
   "cell_type": "code",
   "execution_count": 121,
   "metadata": {},
   "outputs": [
    {
     "name": "stdout",
     "output_type": "stream",
     "text": [
      "2\n",
      "2.0\n",
      "3.0\n",
      "20\n",
      "9.2\n",
      "<class 'str'>\n",
      "<class 'list'>\n",
      "['2', 'a', 's', 'd']\n",
      "[1, 2, 3]\n",
      "['2as', '2an']\n",
      "[1, 2, 3]\n",
      "<class 'tuple'>\n",
      "(1, 2, 3)\n",
      "(4, 1, 6)\n",
      "<class 'set'>\n",
      "{1, 4, 9}\n",
      "{'u', 'h', 'n', 'm', 's', 'a'}\n",
      "{'9', '1', '7', '0', '4'}\n",
      "{1, 2, 3}\n"
     ]
    }
   ],
   "source": [
    "# TYPECASTING\n",
    "print(int(2.3))\n",
    "print(float(2))\n",
    "print(float('3'))\n",
    "# print(float('a')) error\n",
    "print(str('20'))\n",
    "print(str((9.2)))\n",
    "print(type(str(9.2))) #int is typecasted to string\n",
    "# list() converts value to list data type\n",
    "print(type(list('2asd')))\n",
    "print(list('2asd')) #separates each\n",
    "print(list((1,2,3))) #not equals list(1,2,3)\n",
    "print(list((\"2as\",\"2an\"))) \n",
    "print(list({1,2,3})) \n",
    "# tuple()\n",
    "print(type(tuple((1,2,3))))\n",
    "print(tuple((1,2,3)))\n",
    "print(tuple([4,1,6]))\n",
    "# set()\n",
    "print(type(set([1,4,9])))\n",
    "print(set([1,4,9]))\n",
    "print(set('humans'))\n",
    "print(set('110749'))\n",
    "print(set((1,2,3)))"
   ]
  },
  {
   "cell_type": "code",
   "execution_count": 7,
   "metadata": {},
   "outputs": [
    {
     "name": "stdout",
     "output_type": "stream",
     "text": [
      "12\n",
      "1\n",
      "4\n",
      "5\n",
      "--\n",
      "0\n",
      "1\n",
      "--\n",
      "[0, 1, 2, 3, 4, 5, 6, 7, 8, 9]\n",
      "[0, 2, 4, 6, 8]\n",
      "[10, 8, 6, 4, 2]\n",
      "--\n",
      "2\n",
      "/--break and continue statements--/\n",
      "awake\n",
      "eat\n"
     ]
    }
   ],
   "source": [
    "# CONTROL FLOW \n",
    "if (10<4):\n",
    "    print('a')\n",
    "elif (10>14):\n",
    "    print(10)\n",
    "elif (1>4):\n",
    "    pass\n",
    "else:\n",
    "    print(12)\n",
    "\"\"\"LOOP\"\"\"\n",
    "list_num=[1,4,5]\n",
    "for i in list_num:\n",
    "    print(i)\n",
    "print(\"--\")\n",
    "for i in range(0,2):\n",
    "    print(i)\n",
    "print(\"--\")\n",
    "# range\n",
    "print(list(range(0,10)))\n",
    "print(list(range(0,10,2)))\n",
    "print(list(range(10,0,-2)))\n",
    "print(\"--\")\n",
    "# WHILE\n",
    "x=2\n",
    "while(x>0):\n",
    "    print(x)\n",
    "    x=0\n",
    "print(\"/--break and continue statements--/\")\n",
    "actions=[\"awake\",\"not awake\",\"eat\",\"sleep\",\"repeat\"]\n",
    "for i in actions:\n",
    "    if i==\"sleep\":\n",
    "        break       #wont go to repeat\n",
    "    elif i==\"not awake\":\n",
    "        continue    #continues loop\n",
    "    else:\n",
    "        print(i)\n"
   ]
  },
  {
   "cell_type": "code",
   "execution_count": 10,
   "metadata": {},
   "outputs": [
    {
     "name": "stdout",
     "output_type": "stream",
     "text": [
      "9\n",
      "[1, 2, 2, 3, 7, 9]\n"
     ]
    }
   ],
   "source": [
    "# FUNCTIONS\n",
    "\"\"\" \n",
    "shift+alt+A\n",
    "-------------\n",
    "type()\n",
    "len()-length of string/array\n",
    "abs()-absolute value of num\n",
    "input()-user defined\n",
    "max()-max in array/String\n",
    "sorted()-returns sorted array\n",
    "\"\"\"\n",
    "print(max([1,2,3,9,7,2]))\n",
    "print(sorted([1,2,3,9,7,2]))"
   ]
  },
  {
   "cell_type": "code",
   "execution_count": 30,
   "metadata": {},
   "outputs": [
    {
     "name": "stdout",
     "output_type": "stream",
     "text": [
      "(1, 4, 5)\n",
      "31\n",
      "/-------KWARGS------/\n",
      "{'a': 1, 'b': 2, 'c': 3}\n",
      "dict_keys(['a', 'b', 'c'])\n"
     ]
    },
    {
     "data": {
      "text/plain": [
       "6"
      ]
     },
     "execution_count": 30,
     "metadata": {},
     "output_type": "execute_result"
    }
   ],
   "source": [
    "# ARGS AND KWARGS\n",
    "# *args - passing tuple of values\n",
    "def sum_with_args1(*args): \n",
    "    \"\"\" takes multiple parameters \"\"\"\n",
    "    total=0\n",
    "    print(args)\n",
    "    return True\n",
    "sum_with_args1(1,4,5) #args is a tuple\n",
    "\n",
    "def sum_with_args2(*bitch):  #* is necessary in definition ; any word can be used\n",
    "    \"\"\" takes multiple parameters \"\"\"\n",
    "    total=0\n",
    "    for i in bitch:\n",
    "        total=total+i\n",
    "    return total\n",
    "print(sum_with_args2(11,4,5,11))\n",
    "\n",
    "print(\"/-------KWARGS------/\")\n",
    "# kwargs is \"**\" and args is \"*\"\n",
    "# kwargs is a dictionary\n",
    "def sum_with_kwargs(**kwargs):\n",
    "    tot=0\n",
    "    print(kwargs)\n",
    "    print(kwargs.keys())\n",
    "    for i in kwargs.values():\n",
    "        tot=tot+i\n",
    "    return tot\n",
    "sum_with_kwargs(a=1,b=2,c=3)"
   ]
  },
  {
   "cell_type": "code",
   "execution_count": 38,
   "metadata": {},
   "outputs": [
    {
     "name": "stdout",
     "output_type": "stream",
     "text": [
      "10\n",
      "--\n",
      "10\n",
      "20\n"
     ]
    }
   ],
   "source": [
    "# global declaration\n",
    "increment=10\n",
    "def sum(a=1,b=2):\n",
    "    increment=20\n",
    "    tot=a+b\n",
    "sum(1,4)\n",
    "print(increment) #inc value doesnt change\n",
    "print(\"--\")\n",
    "# global\n",
    "def sum(a=1,b=2):\n",
    "    global increment\n",
    "    increment=20\n",
    "    tot=a+b\n",
    "print(increment)\n",
    "sum(4,5)\n",
    "print(increment) #inc value changes"
   ]
  },
  {
   "cell_type": "code",
   "execution_count": 48,
   "metadata": {},
   "outputs": [
    {
     "name": "stdout",
     "output_type": "stream",
     "text": [
      "Hello beach!\n",
      "--\n",
      "20\n"
     ]
    }
   ],
   "source": [
    "# nested function\n",
    "def outerF():\n",
    "    def innerF():\n",
    "        print(\"Hello beach!\")\n",
    "    output=innerF()\n",
    "    return output\n",
    "outerF()\n",
    "print('--')\n",
    "\n",
    "def outerF(): \n",
    "    a=20\n",
    "    def innerF():\n",
    "        print(a)\n",
    "    output=innerF()\n",
    "    return output\n",
    "outerF()"
   ]
  },
  {
   "cell_type": "code",
   "execution_count": 50,
   "metadata": {},
   "outputs": [
    {
     "name": "stdout",
     "output_type": "stream",
     "text": [
      "0\n",
      "1\n",
      "1\n",
      "2\n",
      "3\n",
      "5\n",
      "8\n",
      "13\n",
      "21\n",
      "34\n"
     ]
    }
   ],
   "source": [
    "# RECURSIVE F\n",
    "def fibonacci_rec(n):\n",
    "    if(n<=1):\n",
    "        return n\n",
    "    else:\n",
    "        return (fibonacci_rec(n-1)+fibonacci_rec(n-2))\n",
    "for i in range(10):\n",
    "    print(fibonacci_rec(i))"
   ]
  },
  {
   "cell_type": "code",
   "execution_count": 64,
   "metadata": {},
   "outputs": [
    {
     "name": "stdout",
     "output_type": "stream",
     "text": [
      "9\n",
      "22\n",
      "--\n",
      "[5, 3, 3]\n",
      "--\n",
      "11\n",
      "24\n",
      "--\n",
      "[4, 6]\n"
     ]
    }
   ],
   "source": [
    "# FUNCTIONAL PROGRAM\n",
    "\"\"\"\n",
    "lambda()    map()   reduce()    filter()\n",
    "//easier debug\n",
    "//modular code : do not rely on external code\n",
    "//parallel programming\n",
    "\"\"\"\n",
    "# lambda\n",
    "# A lambda function contains parameters to left side of the : and the code to the right side of the colon.\n",
    "f1=lambda a:a**2\n",
    "print(f1(3))\n",
    "f2=lambda a,b:a+b\n",
    "print(f2(12,10))\n",
    "\n",
    "print(\"--\")\n",
    "# map\n",
    "print(list(map(len,[\"apple\",\"car\",\"dog\"]))) #pass a function , to the provided list\n",
    "\n",
    "print(\"--\")\n",
    "# reduce\n",
    "from functools import reduce\n",
    "print(reduce(lambda x,y:x+y,[1,3,1,2,4])) #applies entire lambda f to the list\n",
    "print(reduce(lambda x,y:x*y,[1,3,1,2,4])) #applies entire lambda f to the list\n",
    "\n",
    "print(\"--\")\n",
    "# filter()\n",
    "print(list(filter(lambda x:x>2,[0,4,2,1,6]))) #returns true cases"
   ]
  },
  {
   "cell_type": "code",
   "execution_count": 70,
   "metadata": {},
   "outputs": [
    {
     "name": "stdout",
     "output_type": "stream",
     "text": [
      "14\n",
      "14\n",
      "--2nd--\n",
      "2\n",
      "7\n",
      "14\n"
     ]
    }
   ],
   "source": [
    "# DECORATORS\n",
    "def dummyF(f):\n",
    "    return f\n",
    "@dummyF\n",
    "def multiplyF(a,b):\n",
    "    return a*b\n",
    "print(multiplyF(2,7))\n",
    "print(dummyF(multiplyF(2,7)))\n",
    "# is equivaluent to dummyF(multiplyF(2,7))\n",
    "\n",
    "print(\"--2nd--\")\n",
    "def dummyF(f): # multiplyF is defined as f \n",
    "    def printParameters(a,b):\n",
    "        print(a)\n",
    "        print(b)\n",
    "        return f(a,b)\n",
    "    return printParameters\n",
    "@dummyF\n",
    "def multiplyF(a,b):\n",
    "    return a*b\n",
    "print(multiplyF(2,7))"
   ]
  },
  {
   "cell_type": "code",
   "execution_count": 96,
   "metadata": {},
   "outputs": [
    {
     "name": "stdout",
     "output_type": "stream",
     "text": [
      "\n",
      "/------ exception------/\n",
      "You just graduated\n",
      "\n",
      "/-------particular exception------/\n",
      "We asked for INTEGER!!\n",
      "\n",
      "/-------try except finally------/\n",
      "You just graduated\n",
      "I'm default case. Always be printed.\n",
      "\n",
      "/-------how to raise exceptions------/\n",
      "The Exception is: Number is negative biatchh.\n"
     ]
    }
   ],
   "source": [
    "#Handling exceptions\n",
    "# try and except\n",
    "print(\"\\n/------ exception------/\")\n",
    "try:\n",
    "    # x=int(input(\"Enter a number\"))\n",
    "    print(\"You just graduated\")\n",
    "except Exception as e: #or just catch\n",
    "    print(\"We asked for INTEGER!!\\n\",e)\n",
    "\n",
    "print(\"\\n/-------particular exception------/\")\n",
    "try:\n",
    "    x=int(input(\"Enter a number\"))\n",
    "    print(\"You just graduated\")\n",
    "except ValueError:\n",
    "    print(\"We asked for INTEGER!!\")\n",
    "\n",
    "\n",
    "print(\"\\n/-------try except finally------/\")\n",
    "try:\n",
    "    # x=int(input(\"Enter a number\"))\n",
    "    print(\"You just graduated\")\n",
    "except:\n",
    "    print(\"We asked for INTEGER!!\")\n",
    "finally:\n",
    "    print(\"I'm default case. Always be printed.\")\n",
    "\n",
    "\n",
    "print(\"\\n/-------how to raise exceptions------/\")\n",
    "try:\n",
    "    x=int(input(\"Enter a godamn number: \"))\n",
    "    if x<0:\n",
    "        raise ValueError(\"Number is negative biatchh.\") #ValueError exception : number is unequal to asked number\n",
    "    else:\n",
    "        print(\"You graduated twice.\")\n",
    "except Exception as e:\n",
    "    print(\"The Exception is:\", e)"
   ]
  },
  {
   "cell_type": "code",
   "execution_count": 104,
   "metadata": {},
   "outputs": [
    {
     "name": "stdout",
     "output_type": "stream",
     "text": [
      "<class '__main__.Student'>\n",
      "The student is studying, lmao.\n",
      "Steve Hemsworth 12\n"
     ]
    }
   ],
   "source": [
    "# OOP in python\n",
    "#class must start Capital\n",
    "class Student: \n",
    "    #body of code\n",
    "    # self-default parameter\n",
    "    def study(self):\n",
    "        print(\"The student is studying, lmao.\")\n",
    "john=Student()\n",
    "print(type(john)) #john is data type of class Student\n",
    "john.study()\n",
    "# multiple objects can be created within the same class\n",
    "student1=Student()\n",
    "student2=Student()\n",
    "student1.fname=\"Steve\"\n",
    "student1.lname=\"Rogers\"\n",
    "student1.roll=12\n",
    "student2.fname=\"Chris\"\n",
    "student2.lname=\"Hemsworth\"\n",
    "student2.roll=12\n",
    "print(student1.fname,student2.lname,student1.roll)\n"
   ]
  },
  {
   "cell_type": "code",
   "execution_count": 113,
   "metadata": {},
   "outputs": [
    {
     "name": "stdout",
     "output_type": "stream",
     "text": [
      "The student is studying MORAL SCIENCE\n",
      "First Name:  Steve\n",
      "Last Name:  Rogers\n",
      "Class:  8\n",
      "/-------INCREMENT CLASS-------/\n",
      "First Name:  Steve\n",
      "Last Name:  Rogers\n",
      "Class:  9\n"
     ]
    }
   ],
   "source": [
    "# CONTRUCTORS\n",
    "class Student:\n",
    "    def __init__(self,firstN,lastN,classN,subject): #self is def cons\n",
    "        self.firstN=firstN;\n",
    "        self.lastN=lastN;\n",
    "        self.classN=classN;\n",
    "        self.subject=subject;\n",
    "\n",
    "    def study(self):\n",
    "        print(\"The student is studying\",self.subject)\n",
    "    def details(self):\n",
    "        print(\"First Name: \",self.firstN)\n",
    "        print(\"Last Name: \",self.lastN)\n",
    "        print(\"Class: \",self.classN)\n",
    "\n",
    "        # INCREMENT CLASS\n",
    "    def increment_class(self):\n",
    "        self.classN=1+self.classN\n",
    "    \n",
    "st1=Student(\"Steve\",\"Rogers\",8,\"MORAL SCIENCE\")\n",
    "st1.study()\n",
    "st2=Student(\"Alberquerue\",\"Mexico\",8,\"Methamphetamine\")\n",
    "st1.details()\n",
    "\n",
    "print(\"/-------INCREMENT CLASS-------/\")\n",
    "st1.increment_class()\n",
    "st1.details()\n"
   ]
  },
  {
   "cell_type": "code",
   "execution_count": 127,
   "metadata": {},
   "outputs": [
    {
     "name": "stdout",
     "output_type": "stream",
     "text": [
      "<class '__main__.Student'>\n",
      "Study is a learning PYTHON\n",
      "Exams scheduled.\n",
      "---------------------------\n",
      "Heisenberg\n",
      "I am 43 years old\n",
      "YOU DONT 43\n"
     ]
    }
   ],
   "source": [
    "# INHERITANCE\n",
    "# parent and child class\n",
    "class School:\n",
    "    def exam(self):\n",
    "        print(\"Exams scheduled.\")\n",
    "\n",
    "class Student(School): #inherit properties from School\n",
    "    def __init__(self,subject):  #innit is constructor of class\n",
    "        self.sub=subject\n",
    "\n",
    "    def study(self):\n",
    "        print(\"Study is a learning\", self.sub)\n",
    "\n",
    "st1=Student(\"PYTHON\")\n",
    "print(type(st1))\n",
    "st1.study()\n",
    "st1.exam()\n",
    "# help(Student) #to see details of a class\n",
    "print(\"---------------------------\")\n",
    "\n",
    "class Mom:\n",
    "    \n",
    "    def __init__(self,fname):\n",
    "        self.fname=fname\n",
    "    def title(self):\n",
    "        print(\"Heisenberg\")\n",
    "\n",
    "class Fam(Mom):\n",
    "    def __init__(self, fname,lname,age):\n",
    "        super().__init__(fname)  #or   Mom.__init__(self,fname)   ;  super calls the parent class\n",
    "        self.lname=lname\n",
    "        self.age=age\n",
    "    \n",
    "    def nap(self):\n",
    "        print(\"I am {} years old\".format(self.age))\n",
    "\n",
    "f1=Fam(\"YOU\",\"DONT\",43)\n",
    "f1.title()\n",
    "f1.nap()\n",
    "print(f1.fname,f1.lname,f1.age)"
   ]
  }
 ],
 "metadata": {
  "interpreter": {
   "hash": "57db386eb4384f0fcdf12cb4fb6229f089a1779ad287c7c3ab22dc54d8ca6af9"
  },
  "kernelspec": {
   "display_name": "Python 3.9.7 64-bit (windows store)",
   "name": "python3"
  },
  "language_info": {
   "codemirror_mode": {
    "name": "ipython",
    "version": 3
   },
   "file_extension": ".py",
   "mimetype": "text/x-python",
   "name": "python",
   "nbconvert_exporter": "python",
   "pygments_lexer": "ipython3",
   "version": "3.9.7"
  },
  "orig_nbformat": 4
 },
 "nbformat": 4,
 "nbformat_minor": 2
}
