{
 "cells": [
  {
   "cell_type": "code",
   "execution_count": 1,
   "metadata": {},
   "outputs": [
    {
     "name": "stdout",
     "output_type": "stream",
     "text": [
      "array('i', [1, 2, 3, 4, 5])\n"
     ]
    }
   ],
   "source": [
    "# Inititalisation in arrays\n",
    "from array import*\n",
    "\n",
    "ar1=array('i',[1,2,3,4,5])\n",
    "ar2=array('d',[11.1,12.2,13.22])\n",
    "print(ar1)"
   ]
  },
  {
   "cell_type": "code",
   "execution_count": 5,
   "metadata": {},
   "outputs": [
    {
     "name": "stdout",
     "output_type": "stream",
     "text": [
      "array('i', [1, 2, 3, 4, 5])\n",
      "array('i', [1, 2, 3, 4, 5, 7])\n",
      "array('i', [0, 1, 2, 3, 4, 5, 7])\n",
      "array('i', [0, 1, 6, 2, 3, 4, 5, 7])\n"
     ]
    }
   ],
   "source": [
    "# Insertion in Arrays\n",
    "from array import*\n",
    "\n",
    "ar1=array('i',[1,2,3,4,5])\n",
    "ar2=array('d',[11.1,12.2,13.22])\n",
    "print(ar1)\n",
    "ar1.insert(6,7) #index and value\n",
    "print(ar1)\n",
    "ar1.insert(0,0) #start index\n",
    "print(ar1)\n",
    "ar1.insert(2,6) #2nd index\n",
    "print(ar1)\n"
   ]
  },
  {
   "cell_type": "code",
   "execution_count": 6,
   "metadata": {},
   "outputs": [
    {
     "name": "stdout",
     "output_type": "stream",
     "text": [
      "1\n",
      "2\n",
      "6\n",
      "3\n",
      "4\n",
      "5\n"
     ]
    }
   ],
   "source": [
    "# Traversal in arrays\n",
    "from array import*\n",
    "\n",
    "ar1=array('i',[1,2,3,4,5])\n",
    "ar1.insert(2,6)\n",
    "def traverseArray(array1):\n",
    "    for i in array1:\n",
    "        print(i)\n",
    "traverseArray(ar1)"
   ]
  },
  {
   "cell_type": "code",
   "execution_count": 8,
   "metadata": {},
   "outputs": [
    {
     "name": "stdout",
     "output_type": "stream",
     "text": [
      "NO ELEMENT\n"
     ]
    }
   ],
   "source": [
    "# Access array element\n",
    "from array import*\n",
    "\n",
    "ar1=array('i',[1,2,3,4,5])\n",
    "def accessElement(array,index):\n",
    "    if index>len(array):\n",
    "        print(\"NO ELEMENT\")\n",
    "    else:\n",
    "        print(array[index])\n",
    "accessElement(ar1,6)"
   ]
  },
  {
   "cell_type": "code",
   "execution_count": 14,
   "metadata": {},
   "outputs": [
    {
     "name": "stdout",
     "output_type": "stream",
     "text": [
      "Value found at index: \n"
     ]
    },
    {
     "data": {
      "text/plain": [
       "2"
      ]
     },
     "execution_count": 14,
     "metadata": {},
     "output_type": "execute_result"
    }
   ],
   "source": [
    "# Search in array\n",
    "from array import*\n",
    "\n",
    "ar1=array('i',[11,12,13,14,15])\n",
    "def searchElement(array,value):\n",
    "    for i in array:\n",
    "        if i==value:    #i=array[i]\n",
    "            print(\"Value found at index: \")\n",
    "            return array.index(value)\n",
    "    return \"Element not exists.\"\n",
    "searchElement(ar1,13)"
   ]
  },
  {
   "cell_type": "code",
   "execution_count": 16,
   "metadata": {},
   "outputs": [
    {
     "name": "stdout",
     "output_type": "stream",
     "text": [
      "array('i', [11, 12, 13, 15])\n"
     ]
    }
   ],
   "source": [
    "# Delete in array\n",
    "from array import*\n",
    "\n",
    "ar1=array('i',[11,12,13,14,15])\n",
    "ar1.remove(14)\n",
    "print(ar1)"
   ]
  }
 ],
 "metadata": {
  "interpreter": {
   "hash": "57db386eb4384f0fcdf12cb4fb6229f089a1779ad287c7c3ab22dc54d8ca6af9"
  },
  "kernelspec": {
   "display_name": "Python 3.9.7 64-bit (windows store)",
   "language": "python",
   "name": "python3"
  },
  "language_info": {
   "codemirror_mode": {
    "name": "ipython",
    "version": 3
   },
   "file_extension": ".py",
   "mimetype": "text/x-python",
   "name": "python",
   "nbconvert_exporter": "python",
   "pygments_lexer": "ipython3",
   "version": "3.9.8"
  },
  "orig_nbformat": 4
 },
 "nbformat": 4,
 "nbformat_minor": 2
}
